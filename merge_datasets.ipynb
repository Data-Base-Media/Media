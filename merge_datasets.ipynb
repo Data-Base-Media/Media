{
 "cells": [
  {
   "cell_type": "code",
   "execution_count": 33,
   "id": "0ac38a66",
   "metadata": {},
   "outputs": [],
   "source": [
    "import pandas as pd\n",
    "\n",
    "# carregar data sets\n",
    "movies_df = pd.read_csv(\"movies.csv\")\n",
    "albums_df = pd.read_csv(\"albums.csv\")\n",
    "tv_shows_df = pd.read_csv(\"tv-shows.csv\")\n",
    "\n",
    "# merge dos data sets\n",
    "merged_df1 = pd.merge(tv_shows_df, albums_df, on=[\"Title\", \"ReleaseYear\", \"Genre\", \"Type\", \"Label/Studio\"], how='outer')\n",
    "merged_df2 = pd.merge(tv_shows_df, movies_df, on=[\"Title\", \"ReleaseYear\", \"Genre\", \"Type\", \"Rating\"], how='outer')\n",
    "merged_df = pd.concat([merged_df1, merged_df2], axis=0)\n",
    "\n",
    "\n",
    "# escreve os data sets num ficheiro csv\n",
    "merged_df.fillna(\"None\", inplace=True)\n",
    "merged_df.to_csv(\"merged_data.csv\", index=False)\n"
   ]
  }
 ],
 "metadata": {
  "kernelspec": {
   "display_name": "Python 3 (ipykernel)",
   "language": "python",
   "name": "python3"
  },
  "language_info": {
   "codemirror_mode": {
    "name": "ipython",
    "version": 3
   },
   "file_extension": ".py",
   "mimetype": "text/x-python",
   "name": "python",
   "nbconvert_exporter": "python",
   "pygments_lexer": "ipython3",
   "version": "3.9.13"
  }
 },
 "nbformat": 4,
 "nbformat_minor": 5
}
