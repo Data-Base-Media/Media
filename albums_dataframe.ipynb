{
 "cells": [
  {
   "cell_type": "code",
   "execution_count": 2,
   "id": "e8e61734",
   "metadata": {
    "scrolled": false
   },
   "outputs": [
    {
     "name": "stderr",
     "output_type": "stream",
     "text": [
      "Querying MetacriticAPI...: 100%|██████████████| 125/125 [00:53<00:00,  2.33it/s]\n"
     ]
    }
   ],
   "source": [
    "import requests\n",
    "import re\n",
    "import json\n",
    "from tqdm import tqdm\n",
    "\n",
    "# Metacritic API url\n",
    "url = \"https://mcgqlapi.com/api\"\n",
    "\n",
    "# Using readlines()\n",
    "albums_file = open('albums.txt', 'r')\n",
    "albums_lines = albums_file.readlines()\n",
    "\n",
    "albums = {}\n",
    "\n",
    "# Obtain information using API\n",
    "for album_line in tqdm(albums_lines, desc='Querying MetacriticAPI...', total=len(albums_lines)):\n",
    "    try:\n",
    "        title, artist, genre, year, label, sales = re.findall('(.*) - (.*) \\((.*)\\) - (\\d{4}) - (.*) - (.*)', album_line)[0]\n",
    "\n",
    "        query = (\n",
    "          'query {',\n",
    "          '  album(input: {',\n",
    "          f'    title: \"{title}\",',\n",
    "          f'    artist: \"{artist}\",',\n",
    "          f'    genre: \"{genre}\",',\n",
    "          f'    year: \"{year}\",',\n",
    "          f'    label: \"{label}\",',\n",
    "          f'    sales: \"{sales}\"',\n",
    "          '  }) {',\n",
    "              '  title',\n",
    "              '  artist',\n",
    "              '  criticScore',\n",
    "              '  userScore',\n",
    "              '  year',\n",
    "              '  genres',\n",
    "              '  label',\n",
    "              '  numOfCriticReviews',\n",
    "              '  numOfUserReviews',\n",
    "          '  }',\n",
    "          '}'\n",
    "        )\n",
    "\n",
    "        query = '\\n'.join(query)\n",
    "\n",
    "        response = requests.post(url=url, json={\"query\": query})\n",
    "        if response.status_code == 200:\n",
    "            albums.append(response.json())\n",
    "    except IndexError:\n",
    "        # Skip malformed line\n",
    "        continue\n",
    "\n",
    "with open('albums.json', 'w') as output_file:\n",
    "    output_file.write(json.dumps(albums))\n",
    "\n"
   ]
  },
  {
   "cell_type": "code",
   "execution_count": 3,
   "id": "3ec0369f",
   "metadata": {},
   "outputs": [],
   "source": [
    "import json\n",
    "import pandas as pd\n",
    "import csv\n",
    "\n",
    "\n",
    "# Abra o arquivo JSON e carregue o conteúdo em uma variável\n",
    "with open('albums.json', 'r') as file:\n",
    "    data = json.load(file)\n",
    "\n",
    "with open('albums.csv', mode='w', newline='', encoding='utf-8') as file:\n",
    "    writer = csv.writer(file)\n",
    "    writer.writerow(['title', 'artist', 'genre', 'year', 'label', 'sales'])\n",
    "    \n",
    "    for album_title, album_data in data.items():\n",
    "        album = album_data['data']\n",
    "        if((album.get('album'))):\n",
    "            writer.writerow([\n",
    "                album['album']['title'],\n",
    "                album['album']['artist'],\n",
    "                album['album']['genre'],\n",
    "                album['album']['year'],\n",
    "                album['album']['label'],\n",
    "                album['album']['sales']\n",
    "            ])"
   ]
  },
  {
   "cell_type": "code",
   "execution_count": 4,
   "id": "d7bfec73",
   "metadata": {},
   "outputs": [
    {
     "data": {
      "text/html": [
       "<div>\n",
       "<style scoped>\n",
       "    .dataframe tbody tr th:only-of-type {\n",
       "        vertical-align: middle;\n",
       "    }\n",
       "\n",
       "    .dataframe tbody tr th {\n",
       "        vertical-align: top;\n",
       "    }\n",
       "\n",
       "    .dataframe thead th {\n",
       "        text-align: right;\n",
       "    }\n",
       "</style>\n",
       "<table border=\"1\" class=\"dataframe\">\n",
       "  <thead>\n",
       "    <tr style=\"text-align: right;\">\n",
       "      <th></th>\n",
       "      <th>title</th>\n",
       "      <th>artist</th>\n",
       "      <th>genre</th>\n",
       "      <th>year</th>\n",
       "      <th>label</th>\n",
       "      <th>sales</th>\n",
       "    </tr>\n",
       "  </thead>\n",
       "  <tbody>\n",
       "  </tbody>\n",
       "</table>\n",
       "</div>"
      ],
      "text/plain": [
       "Empty DataFrame\n",
       "Columns: [title, artist, genre, year, label, sales]\n",
       "Index: []"
      ]
     },
     "execution_count": 4,
     "metadata": {},
     "output_type": "execute_result"
    }
   ],
   "source": [
    "pd.read_csv('albums.csv')"
   ]
  },
  {
   "cell_type": "code",
   "execution_count": null,
   "id": "d04bd93b",
   "metadata": {},
   "outputs": [],
   "source": []
  }
 ],
 "metadata": {
  "kernelspec": {
   "display_name": "Python 3 (ipykernel)",
   "language": "python",
   "name": "python3"
  },
  "language_info": {
   "codemirror_mode": {
    "name": "ipython",
    "version": 3
   },
   "file_extension": ".py",
   "mimetype": "text/x-python",
   "name": "python",
   "nbconvert_exporter": "python",
   "pygments_lexer": "ipython3",
   "version": "3.10.9"
  }
 },
 "nbformat": 4,
 "nbformat_minor": 5
}
