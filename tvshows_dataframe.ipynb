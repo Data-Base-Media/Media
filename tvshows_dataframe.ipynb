{
 "cells": [
  {
   "cell_type": "code",
   "execution_count": 5,
   "id": "a7c80e77",
   "metadata": {},
   "outputs": [
    {
     "name": "stderr",
     "output_type": "stream",
     "text": [
      "Querying MetacriticAPI...: 100%|██████████████| 284/284 [00:19<00:00, 14.41it/s]\n"
     ]
    }
   ],
   "source": [
    "import requests\n",
    "import re\n",
    "import json\n",
    "from tqdm import tqdm\n",
    "\n",
    "# Metacritic API url\n",
    "url = \"https://mcgqlapi.com/api\"\n",
    "\n",
    "# Using readlines()\n",
    "tvshows_file = open('tv-shows.txt', 'r')\n",
    "tvshows_lines = tvshows_file.readlines()\n",
    "\n",
    "tvshows = {}\n",
    "\n",
    "# Obtain information using API\n",
    "for tvshows_line in tqdm(tvshows_lines, desc='Querying MetacriticAPI...', total=len(tvshows_lines)):\n",
    "    try:\n",
    "        title, start, end, chanell, genre1, genre2, owner, adaptation = re.findall('(.*) \\((\\d{4})-(\\d{4}), (.+), (.+), (.+), (.+), (.+)\\)', tvshows_line)[0]\n",
    "\n",
    "        query = (\n",
    "          'query {',\n",
    "          'tv(input: {',\n",
    "          f'    title: \"{title}\",',\n",
    "          f'    start: \"{start}\",',\n",
    "          f'    end: \"{end}\",',\n",
    "          f'    chanell: \"{chanell}\",',\n",
    "          f'    genre1: \"{genre1}\",',\n",
    "          f'    genre2: \"{genre2}\"',\n",
    "          f'    owner: \"{owner}\"',\n",
    "          f'    adaptation: \"{adaptation}\"',\n",
    "          '}) {',\n",
    "          '    title',\n",
    "          '    start',\n",
    "          '    end',\n",
    "          '    chanell',\n",
    "          '    genre1',\n",
    "          '    genre2',\n",
    "          '    owner',\n",
    "          '    adaptation',\n",
    "          '  }',\n",
    "          '}'\n",
    "        )\n",
    "\n",
    "        query = '\\n'.join(query)\n",
    "\n",
    "        response = requests.post(url=url, json={\"query\": query})\n",
    "        if response.status_code == 200:\n",
    "            tvshows[title]=response.json()\n",
    "    except IndexError:\n",
    "        # Skip malformed line\n",
    "        continue\n",
    "\n",
    "with open('tv-shows.json', 'w') as output_file:\n",
    "    output_file.write(json.dumps(tvshows))"
   ]
  },
  {
   "cell_type": "code",
   "execution_count": null,
   "id": "d624f2dc",
   "metadata": {},
   "outputs": [],
   "source": []
  }
 ],
 "metadata": {
  "kernelspec": {
   "display_name": "Python 3 (ipykernel)",
   "language": "python",
   "name": "python3"
  },
  "language_info": {
   "codemirror_mode": {
    "name": "ipython",
    "version": 3
   },
   "file_extension": ".py",
   "mimetype": "text/x-python",
   "name": "python",
   "nbconvert_exporter": "python",
   "pygments_lexer": "ipython3",
   "version": "3.10.9"
  }
 },
 "nbformat": 4,
 "nbformat_minor": 5
}
